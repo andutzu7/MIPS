{
 "cells": [
  {
   "cell_type": "code",
   "execution_count": 1,
   "id": "b1f84d22-f44d-4191-a7ab-890876b9f0cf",
   "metadata": {},
   "outputs": [],
   "source": [
    "import pandas as pd\n",
    "import os\n",
    "import math\n",
    "import collections\n",
    "from itertools import groupby\n",
    "\n",
    "from sklearn.preprocessing import LabelEncoder\n",
    "from sklearn.model_selection import train_test_split\n",
    "from sklearn.metrics import accuracy_score, f1_score\n",
    "\n",
    "from sklearn.ensemble import GradientBoostingClassifier\n",
    "from sklearn.svm import SVC\n",
    "from sklearn.naive_bayes import GaussianNB\n",
    "from sklearn.ensemble import RandomForestClassifier\n",
    "from scipy.stats import entropy\n",
    "import pickle\n",
    "\n",
    "\n",
    "from sklearn.metrics import confusion_matrix\n",
    "from sklearn.feature_extraction.text import TfidfVectorizer\n",
    "from sklearn.metrics import ConfusionMatrixDisplay\n",
    "\n",
    "from sklearn.feature_extraction.text import TfidfVectorizer\n",
    "from sklearn.feature_extraction.text import CountVectorizer\n",
    "\n",
    "import re"
   ]
  },
  {
   "cell_type": "markdown",
   "id": "d4c35cb4-ed11-4a5f-a44a-e73122074e37",
   "metadata": {},
   "source": [
    "## Importing the dataset"
   ]
  },
  {
   "cell_type": "code",
   "execution_count": 2,
   "id": "c2d10792-1c9a-49e0-8a39-694af7ef00da",
   "metadata": {},
   "outputs": [
    {
     "name": "stdout",
     "output_type": "stream",
     "text": [
      "type\t count\n",
      "Normal data 23230\n",
      "SQL Injection 27374\n"
     ]
    }
   ],
   "source": [
    "df = pd.read_csv(\"sqli_dataset.tsv\", sep='\\t')\n",
    "df.dropna(inplace=True)\n",
    "\n",
    "print(\"type\\t count\")\n",
    "\n",
    "print (\"Normal data\",df['label'].value_counts()[0])\n",
    "\n",
    "print (\"SQL Injection\",df['label'].value_counts()[1])\n"
   ]
  },
  {
   "cell_type": "markdown",
   "id": "bfcb2cb6-5abb-444e-ac94-3b68bb52a6ec",
   "metadata": {},
   "source": [
    "## The dataset before processing"
   ]
  },
  {
   "cell_type": "code",
   "execution_count": 3,
   "id": "352e9fc2-0968-472c-b175-c484761d7a6d",
   "metadata": {},
   "outputs": [
    {
     "data": {
      "text/html": [
       "<div>\n",
       "<style scoped>\n",
       "    .dataframe tbody tr th:only-of-type {\n",
       "        vertical-align: middle;\n",
       "    }\n",
       "\n",
       "    .dataframe tbody tr th {\n",
       "        vertical-align: top;\n",
       "    }\n",
       "\n",
       "    .dataframe thead th {\n",
       "        text-align: right;\n",
       "    }\n",
       "</style>\n",
       "<table border=\"1\" class=\"dataframe\">\n",
       "  <thead>\n",
       "    <tr style=\"text-align: right;\">\n",
       "      <th></th>\n",
       "      <th>text_body</th>\n",
       "      <th>label</th>\n",
       "    </tr>\n",
       "  </thead>\n",
       "  <tbody>\n",
       "    <tr>\n",
       "      <th>0</th>\n",
       "      <td>3),)))),',\"(</td>\n",
       "      <td>1.0</td>\n",
       "    </tr>\n",
       "    <tr>\n",
       "      <th>1</th>\n",
       "      <td>3)'hRoCZw&lt;'\"&gt;gMciSC</td>\n",
       "      <td>1.0</td>\n",
       "    </tr>\n",
       "    <tr>\n",
       "      <th>2</th>\n",
       "      <td>3)) AND 3788=5477 AND (1660=1660</td>\n",
       "      <td>1.0</td>\n",
       "    </tr>\n",
       "    <tr>\n",
       "      <th>3</th>\n",
       "      <td>3) AND 2729=6903</td>\n",
       "      <td>1.0</td>\n",
       "    </tr>\n",
       "    <tr>\n",
       "      <th>4</th>\n",
       "      <td>3)') AND 2478=9182 AND ('wZdR'='wZdR</td>\n",
       "      <td>1.0</td>\n",
       "    </tr>\n",
       "    <tr>\n",
       "      <th>...</th>\n",
       "      <td>...</td>\n",
       "      <td>...</td>\n",
       "    </tr>\n",
       "    <tr>\n",
       "      <th>50653</th>\n",
       "      <td>comment6, http://www.ifreakinglovefishing.com/...</td>\n",
       "      <td>0.0</td>\n",
       "    </tr>\n",
       "    <tr>\n",
       "      <th>50654</th>\n",
       "      <td>comment6, http://www.lissycakes.com/mysticism/...</td>\n",
       "      <td>0.0</td>\n",
       "    </tr>\n",
       "    <tr>\n",
       "      <th>50655</th>\n",
       "      <td>comment6, http://www.nataliagallo.com/young-ad...</td>\n",
       "      <td>0.0</td>\n",
       "    </tr>\n",
       "    <tr>\n",
       "      <th>50656</th>\n",
       "      <td>comment6, http://www.organikjoos.com/trivia/pd...</td>\n",
       "      <td>0.0</td>\n",
       "    </tr>\n",
       "    <tr>\n",
       "      <th>50657</th>\n",
       "      <td>comment6, http://www.thejustincredible.com/que...</td>\n",
       "      <td>0.0</td>\n",
       "    </tr>\n",
       "  </tbody>\n",
       "</table>\n",
       "<p>50604 rows × 2 columns</p>\n",
       "</div>"
      ],
      "text/plain": [
       "                                               text_body  label\n",
       "0                                           3),)))),',\"(    1.0\n",
       "1                                    3)'hRoCZw<'\">gMciSC    1.0\n",
       "2                       3)) AND 3788=5477 AND (1660=1660    1.0\n",
       "3                                       3) AND 2729=6903    1.0\n",
       "4                   3)') AND 2478=9182 AND ('wZdR'='wZdR    1.0\n",
       "...                                                  ...    ...\n",
       "50653  comment6, http://www.ifreakinglovefishing.com/...    0.0\n",
       "50654  comment6, http://www.lissycakes.com/mysticism/...    0.0\n",
       "50655  comment6, http://www.nataliagallo.com/young-ad...    0.0\n",
       "50656  comment6, http://www.organikjoos.com/trivia/pd...    0.0\n",
       "50657  comment6, http://www.thejustincredible.com/que...    0.0\n",
       "\n",
       "[50604 rows x 2 columns]"
      ]
     },
     "execution_count": 3,
     "metadata": {},
     "output_type": "execute_result"
    }
   ],
   "source": [
    "df"
   ]
  },
  {
   "cell_type": "markdown",
   "id": "938b7af1-d82f-4b64-890d-8a4ab34a8798",
   "metadata": {},
   "source": [
    "# Data Preprocessing"
   ]
  },
  {
   "cell_type": "markdown",
   "id": "92f23a70-4398-41d5-80b3-907773e673bc",
   "metadata": {},
   "source": [
    "## Tokenizing"
   ]
  },
  {
   "cell_type": "code",
   "execution_count": 4,
   "id": "3343105f-bf00-4463-84e0-5bc1fd995089",
   "metadata": {},
   "outputs": [],
   "source": [
    "sql_regex = re.compile(\"(?P<UNION>UNION\\s+(ALL\\s+)?SELECT)|(?P<PREFIX>([\\'\\\"\\)]|((\\'|\\\"|\\)|\\d+|\\w+)\\s))(\\|\\|\\&\\&|and|or|as|where|IN\\sBOOLEAN\\sMODE)(\\s|\\()(\\(?\\'?-?\\d+\\'?(=|LIKE|<|>|<=|>=)\\'?-?\\d+|\\(?[\\'\\\"\\\\\\\"]\\S+[\\'\\\"\\\\\\\"](\\s+)?(=|LIKE|<|>|<=|>=)(\\s+)?[\\'\\\"\\\\\\\"]))|(?P<USUAL>([\\'\\\"]\\s*)(\\|\\||\\&\\&|and|or)(\\s*[\\'\\\"])(\\s*[\\'\\\"])=)|(?P<DROP>;\\s*DROP\\s+(TABLE|DATABASE)\\s(IF\\s+EXISTS\\s)?\\S+)|(?P<NOTIN>\\snot\\sin\\s?\\((\\d+|(\\'|\\\")\\w+(\\'|\\\"))\\))|(?P<LIMIT>LIMIT\\s+\\d+(\\s+)?,(\\s+)?\\d+)|GROUP_CONCAT\\((?P<GRPCONCAT>.*?)\\)|(?P<ORDERBY>ORDER\\s+BY\\s+\\d+)|CONCAT\\((?P<CONCAT>.*?)\\)|(?P<CASEWHEN>\\(CASE\\s(\\d+\\s|\\(\\d+=\\d+\\)\\s|NULL\\s)?WHEN\\s(\\d+|\\(?\\d+=\\d+\\)?|NULL)\\sTHEN\\s(\\d+|\\(\\d+=\\d+\\)|NULL)\\sELSE)|(?P<DBNAME>(?:(?:m(?:s(?:ysaccessobjects|ysaces|ysobjects|ysqueries|ysrelationships|ysaccessstorage|ysaccessxml|ysmodules|ysmodules2|db)|aster\\.\\.sysdatabases|ysql\\.db)|s(?:ys(?:\\.database_name|aux)|chema(?:\\W*\\(|_name)|qlite(_temp)?_master)|d(?:atabas|b_nam)e\\W*\\(|information_schema|pg_(catalog|toast)|northwind|tempdb)))|(?P<DATABASE>DATABASE\\(\\))|(?P<DTCNAME>table_name|column_name|table_schema|schema_name)|(?P<CAST>CAST\\(.*AS\\s+\\w+\\))|(?P<INQUERY>\\(SELECT[^a-z_0-9])|(?P<CHRBYPASS>((CHA?R\\(\\d+\\)(,|\\|\\||\\+)\\s?)+)|CHA?R\\((\\d+,\\s?)+\\))|(?P<FROMDB>\\sfrom\\s(dual|sysmaster|sysibm)[\\s.:])|(?P<MYSQLFUNC>[^.](ABS|ACOS|ADDDATE|ADDTIME|AES_DECRYPT|AES_ENCRYPT|ANY_VALUE|ASCII|ASIN|ASYMMETRIC_DECRYPT|ASYMMETRIC_DERIVE|ASYMMETRIC_ENCRYPT|ASYMMETRIC_SIGN|ASYMMETRIC_VERIFY|ATAN|ATAN2|AVG|BENCHMARK|BIN|BIT_AND|BIT_COUNT|BIT_LENGTH|BIT_OR|BIT_XOR|CAST|CEIL|CEILING|CHAR|CHAR_LENGTH|CHARACTER_LENGTH|CHARSET|COALESCE|COERCIBILITY|COLLATION|COMPRESS|CONCAT|CONCAT_WS|CONNECTION_ID|CONV|CONVERT|CONVERT_TZ|COS|COT|COUNT|COUNT|CRC32|CREATE_ASYMMETRIC_PRIV_KEY|CREATE_ASYMMETRIC_PUB_KEY|CREATE_DH_PARAMETERS|CREATE_DIGEST|CURDATE|CURRENT_DATE|CURRENT_TIME|CURRENT_TIMESTAMP|CURRENT_USER|CURTIME|DATABASE|DATE|DATE_ADD|DATE_FORMAT|DATE_SUB|DATEDIFF|DAY|DAYNAME|DAYOFMONTH|DAYOFWEEK|DAYOFYEAR|DECODE|DEFAULT|DEGREES|ELT|ENCODE|EXP|EXPORT_SET|EXTRACT|EXTRACTVALUE|FIELD|FIND_IN_SET|FLOOR|FORMAT|FOUND_ROWS|FROM_BASE64|FROM_DAYS|FROM_UNIXTIME|GeometryCollection|GET_FORMAT|GET_LOCK|GREATEST|GROUP_CONCAT|GTID_SUBSET|GTID_SUBTRACT|HEX|HOUR|IF|IFNULL|IIF|IN|INET_ATON|INET_NTOA|INET6_ATON|INET6_NTOA|INSERT|INSTR|INTERVAL|IS_FREE_LOCK|IS_IPV4|IS_IPV4_COMPAT|IS_IPV4_MAPPED|IS_IPV6|IS_USED_LOCK|ISNULL|JSON_APPEND|JSON_ARRAY|JSON_ARRAY_APPEND|JSON_ARRAY_INSERT|JSON_CONTAINS|JSON_CONTAINS_PATH|JSON_DEPTH|JSON_EXTRACT|JSON_INSERT|JSON_KEYS|JSON_LENGTH|JSON_MERGE|JSON_OBJECT|JSON_QUOTE|JSON_REMOVE|JSON_REPLACE|JSON_SEARCH|JSON_SET|JSON_TYPE|JSON_UNQUOTE|JSON_VALID|LAST_INSERT_ID|LCASE|LEAST|LEFT|LENGTH|LineString|LN|LOAD_FILE|LOCALTIME|LOCALTIMESTAMP|LOCATE|LOG|LOG10|LOG2|LOWER|LPAD|LTRIM|MAKE_SET|MAKEDATE|MAKETIME|MASTER_POS_WAIT|MAX|MBRContains|MBRCoveredBy|MBRCovers|MBRDisjoint|MBREquals|MBRIntersects|MBROverlaps|MBRTouches|MBRWithin|MICROSECOND|MID|MIN|MINUTE|MOD|MONTH|MONTHNAME|MultiLineString|MultiPoint|MultiPolygon|NAME_CONST|NOT IN|NOW|NULLIF|OCT|OCTET_LENGTH|OLD_PASSWORD|ORD|PERIOD_ADD|PERIOD_DIFF|PI|Point|Polygon|POSITION|POW|POWER|PROCEDURE ANALYSE|QUARTER|QUOTE|RADIANS|RAND|RANDOM_BYTES|RELEASE_ALL_LOCKS|RELEASE_LOCK|REPEAT|REPLACE|REVERSE|RIGHT|ROUND|ROW_COUNT|RPAD|RTRIM|SCHEMA|SEC_TO_TIME|SECOND|SESSION_USER|SHA1|SHA2|SIGN|SIN|SLEEP|SOUNDEX|SPACE|SQRT|ST_Area|ST_AsBinary|ST_AsGeoJSON|ST_AsText|ST_Buffer|ST_Buffer_Strategy|ST_Centroid|ST_Contains|ST_ConvexHull|ST_Crosses|ST_Difference|ST_Dimension|ST_Disjoint|ST_Distance|ST_Distance_Sphere|ST_EndPoint|ST_Envelope|ST_Equals|ST_ExteriorRing|ST_GeoHash|ST_GeomCollFromText|ST_GeomCollFromWKB|ST_GeometryN|ST_GeometryType|ST_GeomFromGeoJSON|ST_GeomFromText|ST_GeomFromWKB|ST_InteriorRingN|ST_Intersection|ST_Intersects|ST_IsClosed|ST_IsEmpty|ST_IsSimple|ST_IsValid|ST_LatFromGeoHash|ST_Length|ST_LineFromText|ST_LineFromWKB|ST_LongFromGeoHash|ST_MakeEnvelope|ST_MLineFromText|ST_MLineFromWKB|ST_MPointFromText|ST_MPointFromWKB|ST_MPolyFromText|ST_MPolyFromWKB|ST_NumGeometries|ST_NumInteriorRing|ST_NumPoints|ST_Overlaps|ST_PointFromGeoHash|ST_PointFromText|ST_PointFromWKB|ST_PointN|ST_PolyFromText|ST_PolyFromWKB|ST_Simplify|ST_SRID|ST_StartPoint|ST_SymDifference|ST_Touches|ST_Union|ST_Validate|ST_Within|ST_X|ST_Y|StartPoint|STD|STDDEV|STDDEV_POP|STDDEV_SAMP|STR_TO_DATE|STRCMP|SUBDATE|SUBSTR|SUBSTRING|SUBSTRING_INDEX|SUBTIME|SUM|SYSDATE|SYSTEM_USER|TAN|TIME|TIME_FORMAT|TIME_TO_SEC|TIMEDIFF|TIMESTAMP|TIMESTAMPADD|TIMESTAMPDIFF|TO_BASE64|TO_DAYS|TO_SECONDS|TRIM|TRUNCATE|UCASE|UNCOMPRESS|UNCOMPRESSED_LENGTH|UNHEX|UNIX_TIMESTAMP|UpdateXML|UPPER|USER|UTC_DATE|UTC_TIME|UTC_TIMESTAMP|UUID|UUID_SHORT|VALIDATE_PASSWORD_STRENGTH|VALUES|VAR_POP|VAR_SAMP|VARIANCE|VERSION|WAIT_FOR_EXECUTED_GTID_SET|WAIT_UNTIL_SQL_THREAD_AFTER_GTIDS|WEEK|WEEKDAY|WEEKOFYEAR|WEIGHT_STRING|YEAR|YEARWEEK)\\()|(?P<BOOLEAN>\\'?-?\\d+\\'?(=|LIKE)\\'?-?\\d+($|\\s|\\)|,|--|#)|[\\'\\\"\\\\\\\"]\\S+[\\'\\\"\\\\\\\"](\\s+)?(=|LIKE)(\\s+)?[\\'\\\"\\\\\\\"]\\S+)|(?P<PLAIN>(@|##|#)[A-Z]\\w+|[A-Z]\\w*(?=\\s*\\.)|(?<=\\.)[A-Z]\\w*|[A-Z]\\w*(?=\\()|`(``|[^`])*`|´(´´|[^´])*´|[_A-Z][_$#\\w]*|[가-힣]+)\", re.IGNORECASE)\n",
    "\n",
    "def Sql_tokenizer(raw_sql):\n",
    "    if sql_regex.search(raw_sql):\n",
    "        return [tok[0] for tok in groupby([match.lastgroup for match in sql_regex.finditer(raw_sql)])]\n",
    "    else:\n",
    "        return ['PLAIN']\n",
    "        "
   ]
  },
  {
   "cell_type": "markdown",
   "id": "7a8b4c27-0db2-4e42-8d5b-1aebaad17eaa",
   "metadata": {},
   "source": [
    "## Token manipulation"
   ]
  },
  {
   "cell_type": "code",
   "execution_count": 5,
   "id": "80d3fe7f-9038-49a7-b2d8-7006bc52d702",
   "metadata": {},
   "outputs": [],
   "source": [
    "def GetTokenSeq(token_list, N):\n",
    "    token_seq = []\n",
    "    for n in range(0,N):\n",
    "        token_seq += zip(*(token_list[i:] for i in range(n+1)))\n",
    "    return [str(tuple) for tuple in token_seq]"
   ]
  },
  {
   "cell_type": "markdown",
   "id": "d0e9e9aa-baa4-4dc1-9dc8-de2c864ca6f3",
   "metadata": {},
   "source": [
    "## Computing the data entropy"
   ]
  },
  {
   "cell_type": "code",
   "execution_count": 6,
   "id": "16616e51-d047-4477-b366-c6e86c857209",
   "metadata": {},
   "outputs": [],
   "source": [
    "def Entropy(input):\n",
    "    p, lns = collections.Counter(str(input)), float(len(str(input)))\n",
    "    return -sum( count/lns * math.log(count/lns, 2) for count in p.values())"
   ]
  },
  {
   "cell_type": "markdown",
   "id": "9ca134b0-3b01-45a7-835a-681fe57c4b21",
   "metadata": {},
   "source": [
    "## Computing the G score"
   ]
  },
  {
   "cell_type": "code",
   "execution_count": 7,
   "id": "10695120-707e-434e-8019-2b4ff4510c82",
   "metadata": {},
   "outputs": [],
   "source": [
    "def G_test_score(count, expected):\n",
    "        if (count == 0):\n",
    "            return 0\n",
    "        else:\n",
    "            return 2.0 * count * math.log(count/expected)\n",
    "\n",
    "def G_test(tokens, types):\n",
    "    tokens_cnt = tokens.value_counts().astype(float)\n",
    "    types_cnt = types.value_counts().astype(float)\n",
    "    total_cnt = float(sum(tokens_cnt))\n",
    "\n",
    "    token_cnt_table = collections.defaultdict(lambda : collections.Counter())\n",
    "    for _tokens, _types in zip(tokens.values, types.values):\n",
    "        token_cnt_table[_tokens][_types] += 1\n",
    "  \n",
    "        datax = []\n",
    "\n",
    "    tc_dataframe = pd.DataFrame(list(token_cnt_table.values()), index=token_cnt_table.keys())\n",
    "    tc_dataframe.fillna(0, inplace=True)\n",
    "\n",
    "    for column in tc_dataframe.columns.tolist():\n",
    "\n",
    "        if column == 0:\n",
    "            root_name = \"plain\"\n",
    "        else:\n",
    "            root_name = 'sqli'\n",
    "        tc_dataframe[root_name+'_exp'] = (tokens_cnt / total_cnt) * types_cnt[column]\n",
    "        tc_dataframe[root_name+'_GTest'] = [G_test_score(tkn_count, exp) for tkn_count, exp in zip(tc_dataframe[column], tc_dataframe[root_name+'_exp'])]\n",
    "\n",
    "    return tc_dataframe\n",
    "\n",
    "def G_means(token_seq, c_name):\n",
    "    try:\n",
    "        g_scores = [tc_dataframe.loc[token][c_name] for token in token_seq]\n",
    "    except KeyError:\n",
    "        return 0\n",
    "    return sum(g_scores)/len(g_scores) if g_scores else 0\n"
   ]
  },
  {
   "cell_type": "code",
   "execution_count": 8,
   "id": "0d624780-1e76-4b96-8179-b3d534010246",
   "metadata": {},
   "outputs": [],
   "source": [
    "df['tokenized_body'] = df['text_body'].map(lambda x: Sql_tokenizer(x))"
   ]
  },
  {
   "cell_type": "code",
   "execution_count": 9,
   "id": "6c21725f-3412-41e0-ae1d-6413eb870832",
   "metadata": {},
   "outputs": [],
   "source": [
    "df['token_seq'] = df['tokenized_body'].map(lambda x: GetTokenSeq(x, 3))"
   ]
  },
  {
   "cell_type": "code",
   "execution_count": 10,
   "id": "e32edc3e-485e-41e0-8fae-e1e7c224e073",
   "metadata": {},
   "outputs": [],
   "source": [
    "_tokens, _types = zip(*[(token,token_type) for token_list,token_type in zip(df['token_seq'], df['label']) for token in token_list])\n",
    "tc_dataframe = G_test(pd.Series(_tokens), pd.Series(_types))"
   ]
  },
  {
   "cell_type": "code",
   "execution_count": 11,
   "id": "472e78ac-cbb7-4af6-a40c-3c752576cab7",
   "metadata": {},
   "outputs": [],
   "source": [
    "df['token_length'] = df['tokenized_body'].map(lambda x: len(x))\n",
    "df['entropy'] = df['text_body'].map(lambda x: Entropy(x))\n",
    "df['sqli_g_means'] = df['token_seq'].map(lambda x: G_means(x, 'sqli_GTest'))\n",
    "df['plain_g_means'] = df['token_seq'].map(lambda x: G_means(x, 'plain_GTest'))\n",
    "\n",
    "df_copy = df"
   ]
  },
  {
   "cell_type": "markdown",
   "id": "3374fc73-97d5-45c3-b01f-2e6b819c453a",
   "metadata": {},
   "source": [
    "## Dataset with extracted features"
   ]
  },
  {
   "cell_type": "code",
   "execution_count": 12,
   "id": "3aedee2d-1702-4aa8-b72b-2a7887ac1e86",
   "metadata": {},
   "outputs": [
    {
     "data": {
      "text/html": [
       "<div>\n",
       "<style scoped>\n",
       "    .dataframe tbody tr th:only-of-type {\n",
       "        vertical-align: middle;\n",
       "    }\n",
       "\n",
       "    .dataframe tbody tr th {\n",
       "        vertical-align: top;\n",
       "    }\n",
       "\n",
       "    .dataframe thead th {\n",
       "        text-align: right;\n",
       "    }\n",
       "</style>\n",
       "<table border=\"1\" class=\"dataframe\">\n",
       "  <thead>\n",
       "    <tr style=\"text-align: right;\">\n",
       "      <th></th>\n",
       "      <th>text_body</th>\n",
       "      <th>label</th>\n",
       "      <th>tokenized_body</th>\n",
       "      <th>token_seq</th>\n",
       "      <th>token_length</th>\n",
       "      <th>entropy</th>\n",
       "      <th>sqli_g_means</th>\n",
       "      <th>plain_g_means</th>\n",
       "    </tr>\n",
       "  </thead>\n",
       "  <tbody>\n",
       "    <tr>\n",
       "      <th>0</th>\n",
       "      <td>3),)))),',\"(</td>\n",
       "      <td>1.0</td>\n",
       "      <td>[PLAIN]</td>\n",
       "      <td>[('PLAIN',)]</td>\n",
       "      <td>1</td>\n",
       "      <td>2.221252</td>\n",
       "      <td>-29130.153051</td>\n",
       "      <td>56456.194924</td>\n",
       "    </tr>\n",
       "    <tr>\n",
       "      <th>1</th>\n",
       "      <td>3)'hRoCZw&lt;'\"&gt;gMciSC</td>\n",
       "      <td>1.0</td>\n",
       "      <td>[PLAIN]</td>\n",
       "      <td>[('PLAIN',)]</td>\n",
       "      <td>1</td>\n",
       "      <td>4.037401</td>\n",
       "      <td>-29130.153051</td>\n",
       "      <td>56456.194924</td>\n",
       "    </tr>\n",
       "    <tr>\n",
       "      <th>2</th>\n",
       "      <td>3)) AND 3788=5477 AND (1660=1660</td>\n",
       "      <td>1.0</td>\n",
       "      <td>[PREFIX, PLAIN, BOOLEAN]</td>\n",
       "      <td>[('PREFIX',), ('PLAIN',), ('BOOLEAN',), ('PREF...</td>\n",
       "      <td>3</td>\n",
       "      <td>3.788910</td>\n",
       "      <td>-4355.690524</td>\n",
       "      <td>9402.085729</td>\n",
       "    </tr>\n",
       "    <tr>\n",
       "      <th>3</th>\n",
       "      <td>3) AND 2729=6903</td>\n",
       "      <td>1.0</td>\n",
       "      <td>[PREFIX]</td>\n",
       "      <td>[('PREFIX',)]</td>\n",
       "      <td>1</td>\n",
       "      <td>3.500000</td>\n",
       "      <td>524.979444</td>\n",
       "      <td>0.000000</td>\n",
       "    </tr>\n",
       "    <tr>\n",
       "      <th>4</th>\n",
       "      <td>3)') AND 2478=9182 AND ('wZdR'='wZdR</td>\n",
       "      <td>1.0</td>\n",
       "      <td>[PREFIX, PLAIN, BOOLEAN]</td>\n",
       "      <td>[('PREFIX',), ('PLAIN',), ('BOOLEAN',), ('PREF...</td>\n",
       "      <td>3</td>\n",
       "      <td>4.114369</td>\n",
       "      <td>-4355.690524</td>\n",
       "      <td>9402.085729</td>\n",
       "    </tr>\n",
       "    <tr>\n",
       "      <th>...</th>\n",
       "      <td>...</td>\n",
       "      <td>...</td>\n",
       "      <td>...</td>\n",
       "      <td>...</td>\n",
       "      <td>...</td>\n",
       "      <td>...</td>\n",
       "      <td>...</td>\n",
       "      <td>...</td>\n",
       "    </tr>\n",
       "    <tr>\n",
       "      <th>50653</th>\n",
       "      <td>comment6, http://www.ifreakinglovefishing.com/...</td>\n",
       "      <td>0.0</td>\n",
       "      <td>[PLAIN]</td>\n",
       "      <td>[('PLAIN',)]</td>\n",
       "      <td>1</td>\n",
       "      <td>5.064198</td>\n",
       "      <td>-29130.153051</td>\n",
       "      <td>56456.194924</td>\n",
       "    </tr>\n",
       "    <tr>\n",
       "      <th>50654</th>\n",
       "      <td>comment6, http://www.lissycakes.com/mysticism/...</td>\n",
       "      <td>0.0</td>\n",
       "      <td>[PLAIN]</td>\n",
       "      <td>[('PLAIN',)]</td>\n",
       "      <td>1</td>\n",
       "      <td>5.062602</td>\n",
       "      <td>-29130.153051</td>\n",
       "      <td>56456.194924</td>\n",
       "    </tr>\n",
       "    <tr>\n",
       "      <th>50655</th>\n",
       "      <td>comment6, http://www.nataliagallo.com/young-ad...</td>\n",
       "      <td>0.0</td>\n",
       "      <td>[PLAIN]</td>\n",
       "      <td>[('PLAIN',)]</td>\n",
       "      <td>1</td>\n",
       "      <td>5.157021</td>\n",
       "      <td>-29130.153051</td>\n",
       "      <td>56456.194924</td>\n",
       "    </tr>\n",
       "    <tr>\n",
       "      <th>50656</th>\n",
       "      <td>comment6, http://www.organikjoos.com/trivia/pd...</td>\n",
       "      <td>0.0</td>\n",
       "      <td>[PLAIN]</td>\n",
       "      <td>[('PLAIN',)]</td>\n",
       "      <td>1</td>\n",
       "      <td>5.148742</td>\n",
       "      <td>-29130.153051</td>\n",
       "      <td>56456.194924</td>\n",
       "    </tr>\n",
       "    <tr>\n",
       "      <th>50657</th>\n",
       "      <td>comment6, http://www.thejustincredible.com/que...</td>\n",
       "      <td>0.0</td>\n",
       "      <td>[PLAIN]</td>\n",
       "      <td>[('PLAIN',)]</td>\n",
       "      <td>1</td>\n",
       "      <td>5.212215</td>\n",
       "      <td>-29130.153051</td>\n",
       "      <td>56456.194924</td>\n",
       "    </tr>\n",
       "  </tbody>\n",
       "</table>\n",
       "<p>50604 rows × 8 columns</p>\n",
       "</div>"
      ],
      "text/plain": [
       "                                               text_body  label  \\\n",
       "0                                           3),)))),',\"(    1.0   \n",
       "1                                    3)'hRoCZw<'\">gMciSC    1.0   \n",
       "2                       3)) AND 3788=5477 AND (1660=1660    1.0   \n",
       "3                                       3) AND 2729=6903    1.0   \n",
       "4                   3)') AND 2478=9182 AND ('wZdR'='wZdR    1.0   \n",
       "...                                                  ...    ...   \n",
       "50653  comment6, http://www.ifreakinglovefishing.com/...    0.0   \n",
       "50654  comment6, http://www.lissycakes.com/mysticism/...    0.0   \n",
       "50655  comment6, http://www.nataliagallo.com/young-ad...    0.0   \n",
       "50656  comment6, http://www.organikjoos.com/trivia/pd...    0.0   \n",
       "50657  comment6, http://www.thejustincredible.com/que...    0.0   \n",
       "\n",
       "                 tokenized_body  \\\n",
       "0                       [PLAIN]   \n",
       "1                       [PLAIN]   \n",
       "2      [PREFIX, PLAIN, BOOLEAN]   \n",
       "3                      [PREFIX]   \n",
       "4      [PREFIX, PLAIN, BOOLEAN]   \n",
       "...                         ...   \n",
       "50653                   [PLAIN]   \n",
       "50654                   [PLAIN]   \n",
       "50655                   [PLAIN]   \n",
       "50656                   [PLAIN]   \n",
       "50657                   [PLAIN]   \n",
       "\n",
       "                                               token_seq  token_length  \\\n",
       "0                                           [('PLAIN',)]             1   \n",
       "1                                           [('PLAIN',)]             1   \n",
       "2      [('PREFIX',), ('PLAIN',), ('BOOLEAN',), ('PREF...             3   \n",
       "3                                          [('PREFIX',)]             1   \n",
       "4      [('PREFIX',), ('PLAIN',), ('BOOLEAN',), ('PREF...             3   \n",
       "...                                                  ...           ...   \n",
       "50653                                       [('PLAIN',)]             1   \n",
       "50654                                       [('PLAIN',)]             1   \n",
       "50655                                       [('PLAIN',)]             1   \n",
       "50656                                       [('PLAIN',)]             1   \n",
       "50657                                       [('PLAIN',)]             1   \n",
       "\n",
       "        entropy  sqli_g_means  plain_g_means  \n",
       "0      2.221252 -29130.153051   56456.194924  \n",
       "1      4.037401 -29130.153051   56456.194924  \n",
       "2      3.788910  -4355.690524    9402.085729  \n",
       "3      3.500000    524.979444       0.000000  \n",
       "4      4.114369  -4355.690524    9402.085729  \n",
       "...         ...           ...            ...  \n",
       "50653  5.064198 -29130.153051   56456.194924  \n",
       "50654  5.062602 -29130.153051   56456.194924  \n",
       "50655  5.157021 -29130.153051   56456.194924  \n",
       "50656  5.148742 -29130.153051   56456.194924  \n",
       "50657  5.212215 -29130.153051   56456.194924  \n",
       "\n",
       "[50604 rows x 8 columns]"
      ]
     },
     "execution_count": 12,
     "metadata": {},
     "output_type": "execute_result"
    }
   ],
   "source": [
    "df_copy"
   ]
  },
  {
   "cell_type": "code",
   "execution_count": 13,
   "id": "4185e226-ec93-4530-8ec8-e7d152716716",
   "metadata": {},
   "outputs": [],
   "source": [
    "df = df.iloc[:,4:]"
   ]
  },
  {
   "cell_type": "code",
   "execution_count": 14,
   "id": "2950a533-60e3-48ef-af50-801aa34d08f3",
   "metadata": {},
   "outputs": [
    {
     "data": {
      "text/html": [
       "<div>\n",
       "<style scoped>\n",
       "    .dataframe tbody tr th:only-of-type {\n",
       "        vertical-align: middle;\n",
       "    }\n",
       "\n",
       "    .dataframe tbody tr th {\n",
       "        vertical-align: top;\n",
       "    }\n",
       "\n",
       "    .dataframe thead th {\n",
       "        text-align: right;\n",
       "    }\n",
       "</style>\n",
       "<table border=\"1\" class=\"dataframe\">\n",
       "  <thead>\n",
       "    <tr style=\"text-align: right;\">\n",
       "      <th></th>\n",
       "      <th>token_length</th>\n",
       "      <th>entropy</th>\n",
       "      <th>sqli_g_means</th>\n",
       "      <th>plain_g_means</th>\n",
       "    </tr>\n",
       "  </thead>\n",
       "  <tbody>\n",
       "    <tr>\n",
       "      <th>0</th>\n",
       "      <td>1</td>\n",
       "      <td>2.221252</td>\n",
       "      <td>-29130.153051</td>\n",
       "      <td>56456.194924</td>\n",
       "    </tr>\n",
       "    <tr>\n",
       "      <th>1</th>\n",
       "      <td>1</td>\n",
       "      <td>4.037401</td>\n",
       "      <td>-29130.153051</td>\n",
       "      <td>56456.194924</td>\n",
       "    </tr>\n",
       "    <tr>\n",
       "      <th>2</th>\n",
       "      <td>3</td>\n",
       "      <td>3.788910</td>\n",
       "      <td>-4355.690524</td>\n",
       "      <td>9402.085729</td>\n",
       "    </tr>\n",
       "    <tr>\n",
       "      <th>3</th>\n",
       "      <td>1</td>\n",
       "      <td>3.500000</td>\n",
       "      <td>524.979444</td>\n",
       "      <td>0.000000</td>\n",
       "    </tr>\n",
       "    <tr>\n",
       "      <th>4</th>\n",
       "      <td>3</td>\n",
       "      <td>4.114369</td>\n",
       "      <td>-4355.690524</td>\n",
       "      <td>9402.085729</td>\n",
       "    </tr>\n",
       "    <tr>\n",
       "      <th>...</th>\n",
       "      <td>...</td>\n",
       "      <td>...</td>\n",
       "      <td>...</td>\n",
       "      <td>...</td>\n",
       "    </tr>\n",
       "    <tr>\n",
       "      <th>50653</th>\n",
       "      <td>1</td>\n",
       "      <td>5.064198</td>\n",
       "      <td>-29130.153051</td>\n",
       "      <td>56456.194924</td>\n",
       "    </tr>\n",
       "    <tr>\n",
       "      <th>50654</th>\n",
       "      <td>1</td>\n",
       "      <td>5.062602</td>\n",
       "      <td>-29130.153051</td>\n",
       "      <td>56456.194924</td>\n",
       "    </tr>\n",
       "    <tr>\n",
       "      <th>50655</th>\n",
       "      <td>1</td>\n",
       "      <td>5.157021</td>\n",
       "      <td>-29130.153051</td>\n",
       "      <td>56456.194924</td>\n",
       "    </tr>\n",
       "    <tr>\n",
       "      <th>50656</th>\n",
       "      <td>1</td>\n",
       "      <td>5.148742</td>\n",
       "      <td>-29130.153051</td>\n",
       "      <td>56456.194924</td>\n",
       "    </tr>\n",
       "    <tr>\n",
       "      <th>50657</th>\n",
       "      <td>1</td>\n",
       "      <td>5.212215</td>\n",
       "      <td>-29130.153051</td>\n",
       "      <td>56456.194924</td>\n",
       "    </tr>\n",
       "  </tbody>\n",
       "</table>\n",
       "<p>50604 rows × 4 columns</p>\n",
       "</div>"
      ],
      "text/plain": [
       "       token_length   entropy  sqli_g_means  plain_g_means\n",
       "0                 1  2.221252 -29130.153051   56456.194924\n",
       "1                 1  4.037401 -29130.153051   56456.194924\n",
       "2                 3  3.788910  -4355.690524    9402.085729\n",
       "3                 1  3.500000    524.979444       0.000000\n",
       "4                 3  4.114369  -4355.690524    9402.085729\n",
       "...             ...       ...           ...            ...\n",
       "50653             1  5.064198 -29130.153051   56456.194924\n",
       "50654             1  5.062602 -29130.153051   56456.194924\n",
       "50655             1  5.157021 -29130.153051   56456.194924\n",
       "50656             1  5.148742 -29130.153051   56456.194924\n",
       "50657             1  5.212215 -29130.153051   56456.194924\n",
       "\n",
       "[50604 rows x 4 columns]"
      ]
     },
     "execution_count": 14,
     "metadata": {},
     "output_type": "execute_result"
    }
   ],
   "source": [
    "df"
   ]
  },
  {
   "cell_type": "code",
   "execution_count": 15,
   "id": "948b89d9-e1de-4ea9-8cb3-1bc6949c0d0d",
   "metadata": {},
   "outputs": [],
   "source": [
    "X = df\n",
    "y = (df_copy['label'].tolist())"
   ]
  },
  {
   "cell_type": "code",
   "execution_count": 16,
   "id": "2b9a65a2-69ac-40c4-86ed-fbceb9edab34",
   "metadata": {},
   "outputs": [],
   "source": [
    "X_train, X_test, y_train, y_test = train_test_split(X, y, test_size=0.2, random_state = 0)"
   ]
  },
  {
   "cell_type": "markdown",
   "id": "40a51596-d1d8-4f28-927f-cee16826247e",
   "metadata": {},
   "source": [
    "# Trying out different algorithms"
   ]
  },
  {
   "cell_type": "markdown",
   "id": "e6afbe3e-0547-4b91-81c1-f29e1faeb2fb",
   "metadata": {},
   "source": [
    "## GradientBoostingClassifier"
   ]
  },
  {
   "cell_type": "code",
   "execution_count": 17,
   "id": "748a9451-bc14-4ba6-86ed-7242646a0e98",
   "metadata": {},
   "outputs": [
    {
     "data": {
      "text/html": [
       "<style>#sk-container-id-1 {color: black;}#sk-container-id-1 pre{padding: 0;}#sk-container-id-1 div.sk-toggleable {background-color: white;}#sk-container-id-1 label.sk-toggleable__label {cursor: pointer;display: block;width: 100%;margin-bottom: 0;padding: 0.3em;box-sizing: border-box;text-align: center;}#sk-container-id-1 label.sk-toggleable__label-arrow:before {content: \"▸\";float: left;margin-right: 0.25em;color: #696969;}#sk-container-id-1 label.sk-toggleable__label-arrow:hover:before {color: black;}#sk-container-id-1 div.sk-estimator:hover label.sk-toggleable__label-arrow:before {color: black;}#sk-container-id-1 div.sk-toggleable__content {max-height: 0;max-width: 0;overflow: hidden;text-align: left;background-color: #f0f8ff;}#sk-container-id-1 div.sk-toggleable__content pre {margin: 0.2em;color: black;border-radius: 0.25em;background-color: #f0f8ff;}#sk-container-id-1 input.sk-toggleable__control:checked~div.sk-toggleable__content {max-height: 200px;max-width: 100%;overflow: auto;}#sk-container-id-1 input.sk-toggleable__control:checked~label.sk-toggleable__label-arrow:before {content: \"▾\";}#sk-container-id-1 div.sk-estimator input.sk-toggleable__control:checked~label.sk-toggleable__label {background-color: #d4ebff;}#sk-container-id-1 div.sk-label input.sk-toggleable__control:checked~label.sk-toggleable__label {background-color: #d4ebff;}#sk-container-id-1 input.sk-hidden--visually {border: 0;clip: rect(1px 1px 1px 1px);clip: rect(1px, 1px, 1px, 1px);height: 1px;margin: -1px;overflow: hidden;padding: 0;position: absolute;width: 1px;}#sk-container-id-1 div.sk-estimator {font-family: monospace;background-color: #f0f8ff;border: 1px dotted black;border-radius: 0.25em;box-sizing: border-box;margin-bottom: 0.5em;}#sk-container-id-1 div.sk-estimator:hover {background-color: #d4ebff;}#sk-container-id-1 div.sk-parallel-item::after {content: \"\";width: 100%;border-bottom: 1px solid gray;flex-grow: 1;}#sk-container-id-1 div.sk-label:hover label.sk-toggleable__label {background-color: #d4ebff;}#sk-container-id-1 div.sk-serial::before {content: \"\";position: absolute;border-left: 1px solid gray;box-sizing: border-box;top: 0;bottom: 0;left: 50%;z-index: 0;}#sk-container-id-1 div.sk-serial {display: flex;flex-direction: column;align-items: center;background-color: white;padding-right: 0.2em;padding-left: 0.2em;position: relative;}#sk-container-id-1 div.sk-item {position: relative;z-index: 1;}#sk-container-id-1 div.sk-parallel {display: flex;align-items: stretch;justify-content: center;background-color: white;position: relative;}#sk-container-id-1 div.sk-item::before, #sk-container-id-1 div.sk-parallel-item::before {content: \"\";position: absolute;border-left: 1px solid gray;box-sizing: border-box;top: 0;bottom: 0;left: 50%;z-index: -1;}#sk-container-id-1 div.sk-parallel-item {display: flex;flex-direction: column;z-index: 1;position: relative;background-color: white;}#sk-container-id-1 div.sk-parallel-item:first-child::after {align-self: flex-end;width: 50%;}#sk-container-id-1 div.sk-parallel-item:last-child::after {align-self: flex-start;width: 50%;}#sk-container-id-1 div.sk-parallel-item:only-child::after {width: 0;}#sk-container-id-1 div.sk-dashed-wrapped {border: 1px dashed gray;margin: 0 0.4em 0.5em 0.4em;box-sizing: border-box;padding-bottom: 0.4em;background-color: white;}#sk-container-id-1 div.sk-label label {font-family: monospace;font-weight: bold;display: inline-block;line-height: 1.2em;}#sk-container-id-1 div.sk-label-container {text-align: center;}#sk-container-id-1 div.sk-container {/* jupyter's `normalize.less` sets `[hidden] { display: none; }` but bootstrap.min.css set `[hidden] { display: none !important; }` so we also need the `!important` here to be able to override the default hidden behavior on the sphinx rendered scikit-learn.org. See: https://github.com/scikit-learn/scikit-learn/issues/21755 */display: inline-block !important;position: relative;}#sk-container-id-1 div.sk-text-repr-fallback {display: none;}</style><div id=\"sk-container-id-1\" class=\"sk-top-container\"><div class=\"sk-text-repr-fallback\"><pre>GradientBoostingClassifier(learning_rate=1.0, max_depth=10, random_state=0)</pre><b>In a Jupyter environment, please rerun this cell to show the HTML representation or trust the notebook. <br />On GitHub, the HTML representation is unable to render, please try loading this page with nbviewer.org.</b></div><div class=\"sk-container\" hidden><div class=\"sk-item\"><div class=\"sk-estimator sk-toggleable\"><input class=\"sk-toggleable__control sk-hidden--visually\" id=\"sk-estimator-id-1\" type=\"checkbox\" checked><label for=\"sk-estimator-id-1\" class=\"sk-toggleable__label sk-toggleable__label-arrow\">GradientBoostingClassifier</label><div class=\"sk-toggleable__content\"><pre>GradientBoostingClassifier(learning_rate=1.0, max_depth=10, random_state=0)</pre></div></div></div></div></div>"
      ],
      "text/plain": [
       "GradientBoostingClassifier(learning_rate=1.0, max_depth=10, random_state=0)"
      ]
     },
     "execution_count": 17,
     "metadata": {},
     "output_type": "execute_result"
    }
   ],
   "source": [
    "gb_classifier = GradientBoostingClassifier(learning_rate=1.0, max_depth=10, random_state=0)\n",
    "gb_classifier.fit(X_train,y_train)"
   ]
  },
  {
   "cell_type": "code",
   "execution_count": 18,
   "id": "864e1002-8337-4e0e-ab36-4a160a88e620",
   "metadata": {},
   "outputs": [
    {
     "name": "stdout",
     "output_type": "stream",
     "text": [
      "Accuracy of Gradient Boosting Classifier on test set : 0.9519810295425353\n",
      "F1 Score of Gradient Boosting Classifier on test set : 0.9556245434623813\n"
     ]
    }
   ],
   "source": [
    "y_pred = gb_classifier.predict(X_test)\n",
    "print(f\"Accuracy of Gradient Boosting Classifier on test set : {accuracy_score(y_pred, y_test)}\")\n",
    "print(f\"F1 Score of Gradient Boosting Classifier on test set : {f1_score(y_pred, y_test)}\")"
   ]
  },
  {
   "cell_type": "code",
   "execution_count": 19,
   "id": "c349bbe5-a573-438c-be0c-ad5f72e9389b",
   "metadata": {},
   "outputs": [],
   "source": [
    "cm = confusion_matrix(y_test, y_pred)\n",
    "\n",
    "TP = cm[1, 1]\n",
    "TN = cm[0, 0]\n",
    "FP = cm[0, 1]\n",
    "FN = cm[1, 0]"
   ]
  },
  {
   "cell_type": "code",
   "execution_count": 20,
   "id": "7d46eeac-f04e-4f4e-83de-8c6aafd1acdf",
   "metadata": {},
   "outputs": [
    {
     "name": "stdout",
     "output_type": "stream",
     "text": [
      "Sensitivity: 0.9649640420431496\n",
      "Specificity: 0.9369944657300979\n",
      "Precision: 0.9464640983903057\n"
     ]
    }
   ],
   "source": [
    "sensitivity = TP / float(FN + TP)\n",
    "print(\"Sensitivity:\",sensitivity)\n",
    "specificity = TN / (TN + FP)\n",
    "print(\"Specificity:\",specificity)\n",
    "precision = TP / float(TP + FP)\n",
    "recall = TP / float(TP + FN)\n",
    "print (\"Precision:\",precision)"
   ]
  },
  {
   "cell_type": "code",
   "execution_count": 21,
   "id": "765e3631-83ce-4480-9cb6-6c74814934bb",
   "metadata": {},
   "outputs": [
    {
     "data": {
      "text/plain": [
       "<sklearn.metrics._plot.confusion_matrix.ConfusionMatrixDisplay at 0x1b91b8f85d0>"
      ]
     },
     "execution_count": 21,
     "metadata": {},
     "output_type": "execute_result"
    },
    {
     "data": {
      "image/png": "[encoded data removed]",
      "text/plain": [
       "<Figure size 640x480 with 2 Axes>"
      ]
     },
     "metadata": {},
     "output_type": "display_data"
    }
   ],
   "source": [
    "ConfusionMatrixDisplay(cm,display_labels=gb_classifier.classes_).plot()"
   ]
  },
  {
   "cell_type": "markdown",
   "id": "1ce10a59-f9a6-4aa6-b6e9-365a917a6286",
   "metadata": {},
   "source": [
    "## SVM"
   ]
  },
  {
   "cell_type": "code",
   "execution_count": 22,
   "id": "c7b01e51-6443-4cc3-a0ca-9c32c3d2a5ef",
   "metadata": {},
   "outputs": [
    {
     "data": {
      "text/html": [
       "<style>#sk-container-id-2 {color: black;}#sk-container-id-2 pre{padding: 0;}#sk-container-id-2 div.sk-toggleable {background-color: white;}#sk-container-id-2 label.sk-toggleable__label {cursor: pointer;display: block;width: 100%;margin-bottom: 0;padding: 0.3em;box-sizing: border-box;text-align: center;}#sk-container-id-2 label.sk-toggleable__label-arrow:before {content: \"▸\";float: left;margin-right: 0.25em;color: #696969;}#sk-container-id-2 label.sk-toggleable__label-arrow:hover:before {color: black;}#sk-container-id-2 div.sk-estimator:hover label.sk-toggleable__label-arrow:before {color: black;}#sk-container-id-2 div.sk-toggleable__content {max-height: 0;max-width: 0;overflow: hidden;text-align: left;background-color: #f0f8ff;}#sk-container-id-2 div.sk-toggleable__content pre {margin: 0.2em;color: black;border-radius: 0.25em;background-color: #f0f8ff;}#sk-container-id-2 input.sk-toggleable__control:checked~div.sk-toggleable__content {max-height: 200px;max-width: 100%;overflow: auto;}#sk-container-id-2 input.sk-toggleable__control:checked~label.sk-toggleable__label-arrow:before {content: \"▾\";}#sk-container-id-2 div.sk-estimator input.sk-toggleable__control:checked~label.sk-toggleable__label {background-color: #d4ebff;}#sk-container-id-2 div.sk-label input.sk-toggleable__control:checked~label.sk-toggleable__label {background-color: #d4ebff;}#sk-container-id-2 input.sk-hidden--visually {border: 0;clip: rect(1px 1px 1px 1px);clip: rect(1px, 1px, 1px, 1px);height: 1px;margin: -1px;overflow: hidden;padding: 0;position: absolute;width: 1px;}#sk-container-id-2 div.sk-estimator {font-family: monospace;background-color: #f0f8ff;border: 1px dotted black;border-radius: 0.25em;box-sizing: border-box;margin-bottom: 0.5em;}#sk-container-id-2 div.sk-estimator:hover {background-color: #d4ebff;}#sk-container-id-2 div.sk-parallel-item::after {content: \"\";width: 100%;border-bottom: 1px solid gray;flex-grow: 1;}#sk-container-id-2 div.sk-label:hover label.sk-toggleable__label {background-color: #d4ebff;}#sk-container-id-2 div.sk-serial::before {content: \"\";position: absolute;border-left: 1px solid gray;box-sizing: border-box;top: 0;bottom: 0;left: 50%;z-index: 0;}#sk-container-id-2 div.sk-serial {display: flex;flex-direction: column;align-items: center;background-color: white;padding-right: 0.2em;padding-left: 0.2em;position: relative;}#sk-container-id-2 div.sk-item {position: relative;z-index: 1;}#sk-container-id-2 div.sk-parallel {display: flex;align-items: stretch;justify-content: center;background-color: white;position: relative;}#sk-container-id-2 div.sk-item::before, #sk-container-id-2 div.sk-parallel-item::before {content: \"\";position: absolute;border-left: 1px solid gray;box-sizing: border-box;top: 0;bottom: 0;left: 50%;z-index: -1;}#sk-container-id-2 div.sk-parallel-item {display: flex;flex-direction: column;z-index: 1;position: relative;background-color: white;}#sk-container-id-2 div.sk-parallel-item:first-child::after {align-self: flex-end;width: 50%;}#sk-container-id-2 div.sk-parallel-item:last-child::after {align-self: flex-start;width: 50%;}#sk-container-id-2 div.sk-parallel-item:only-child::after {width: 0;}#sk-container-id-2 div.sk-dashed-wrapped {border: 1px dashed gray;margin: 0 0.4em 0.5em 0.4em;box-sizing: border-box;padding-bottom: 0.4em;background-color: white;}#sk-container-id-2 div.sk-label label {font-family: monospace;font-weight: bold;display: inline-block;line-height: 1.2em;}#sk-container-id-2 div.sk-label-container {text-align: center;}#sk-container-id-2 div.sk-container {/* jupyter's `normalize.less` sets `[hidden] { display: none; }` but bootstrap.min.css set `[hidden] { display: none !important; }` so we also need the `!important` here to be able to override the default hidden behavior on the sphinx rendered scikit-learn.org. See: https://github.com/scikit-learn/scikit-learn/issues/21755 */display: inline-block !important;position: relative;}#sk-container-id-2 div.sk-text-repr-fallback {display: none;}</style><div id=\"sk-container-id-2\" class=\"sk-top-container\"><div class=\"sk-text-repr-fallback\"><pre>SVC()</pre><b>In a Jupyter environment, please rerun this cell to show the HTML representation or trust the notebook. <br />On GitHub, the HTML representation is unable to render, please try loading this page with nbviewer.org.</b></div><div class=\"sk-container\" hidden><div class=\"sk-item\"><div class=\"sk-estimator sk-toggleable\"><input class=\"sk-toggleable__control sk-hidden--visually\" id=\"sk-estimator-id-2\" type=\"checkbox\" checked><label for=\"sk-estimator-id-2\" class=\"sk-toggleable__label sk-toggleable__label-arrow\">SVC</label><div class=\"sk-toggleable__content\"><pre>SVC()</pre></div></div></div></div></div>"
      ],
      "text/plain": [
       "SVC()"
      ]
     },
     "execution_count": 22,
     "metadata": {},
     "output_type": "execute_result"
    }
   ],
   "source": [
    "svc_classifier = SVC()\n",
    "svc_classifier.fit(X_train, y_train)"
   ]
  },
  {
   "cell_type": "code",
   "execution_count": 23,
   "id": "017df9fe-3d25-413d-93b6-2b8375b18dc7",
   "metadata": {},
   "outputs": [
    {
     "name": "stdout",
     "output_type": "stream",
     "text": [
      "Accuracy of SVC on test set : 0.786681157988341\n",
      "F1 Score of SVC on test set : 0.7573884706146758\n"
     ]
    }
   ],
   "source": [
    "y_pred = svc_classifier.predict(X_test)\n",
    "print(f\"Accuracy of SVC on test set : {accuracy_score(y_pred, y_test)}\")\n",
    "print(f\"F1 Score of SVC on test set : {f1_score(y_pred, y_test)}\")"
   ]
  },
  {
   "cell_type": "code",
   "execution_count": 24,
   "id": "6083efaf-fc8e-42b0-9ff6-ae83c50f2edb",
   "metadata": {},
   "outputs": [],
   "source": [
    "cm = confusion_matrix(y_test, y_pred)\n",
    "\n",
    "TP = cm[1, 1]\n",
    "TN = cm[0, 0]\n",
    "FP = cm[0, 1]\n",
    "FN = cm[1, 0]"
   ]
  },
  {
   "cell_type": "code",
   "execution_count": 25,
   "id": "87100ee5-f64d-4ba1-b406-31f401fa0af5",
   "metadata": {},
   "outputs": [
    {
     "name": "stdout",
     "output_type": "stream",
     "text": [
      "Sensitivity: 0.6214272542872948\n",
      "Specificity: 0.9774372073222648\n",
      "Precision: 0.9695051783659379\n"
     ]
    }
   ],
   "source": [
    "sensitivity = TP / float(FN + TP)\n",
    "print(\"Sensitivity:\",sensitivity)\n",
    "specificity = TN / (TN + FP)\n",
    "print(\"Specificity:\",specificity)\n",
    "precision = TP / float(TP + FP)\n",
    "recall = TP / float(TP + FN)\n",
    "print (\"Precision:\",precision)"
   ]
  },
  {
   "cell_type": "code",
   "execution_count": 26,
   "id": "ecc39e35-4b4f-4ee3-97d3-db9dc11cce05",
   "metadata": {},
   "outputs": [
    {
     "data": {
      "text/plain": [
       "<sklearn.metrics._plot.confusion_matrix.ConfusionMatrixDisplay at 0x1b91e348590>"
      ]
     },
     "execution_count": 26,
     "metadata": {},
     "output_type": "execute_result"
    },
    {
     "data": {
      "image/png": "[encoded data removed]",
      "text/plain": [
       "<Figure size 640x480 with 2 Axes>"
      ]
     },
     "metadata": {},
     "output_type": "display_data"
    }
   ],
   "source": [
    "ConfusionMatrixDisplay(cm,display_labels=svc_classifier.classes_).plot()"
   ]
  },
  {
   "cell_type": "markdown",
   "id": "841dd6d1-24cd-4ff8-b8ab-cb3c61bc2457",
   "metadata": {},
   "source": [
    "## Naive Bayes"
   ]
  },
  {
   "cell_type": "code",
   "execution_count": 27,
   "id": "466c05a1-f261-49e6-8a03-7e54fa001f15",
   "metadata": {},
   "outputs": [
    {
     "data": {
      "text/html": [
       "<style>#sk-container-id-3 {color: black;}#sk-container-id-3 pre{padding: 0;}#sk-container-id-3 div.sk-toggleable {background-color: white;}#sk-container-id-3 label.sk-toggleable__label {cursor: pointer;display: block;width: 100%;margin-bottom: 0;padding: 0.3em;box-sizing: border-box;text-align: center;}#sk-container-id-3 label.sk-toggleable__label-arrow:before {content: \"▸\";float: left;margin-right: 0.25em;color: #696969;}#sk-container-id-3 label.sk-toggleable__label-arrow:hover:before {color: black;}#sk-container-id-3 div.sk-estimator:hover label.sk-toggleable__label-arrow:before {color: black;}#sk-container-id-3 div.sk-toggleable__content {max-height: 0;max-width: 0;overflow: hidden;text-align: left;background-color: #f0f8ff;}#sk-container-id-3 div.sk-toggleable__content pre {margin: 0.2em;color: black;border-radius: 0.25em;background-color: #f0f8ff;}#sk-container-id-3 input.sk-toggleable__control:checked~div.sk-toggleable__content {max-height: 200px;max-width: 100%;overflow: auto;}#sk-container-id-3 input.sk-toggleable__control:checked~label.sk-toggleable__label-arrow:before {content: \"▾\";}#sk-container-id-3 div.sk-estimator input.sk-toggleable__control:checked~label.sk-toggleable__label {background-color: #d4ebff;}#sk-container-id-3 div.sk-label input.sk-toggleable__control:checked~label.sk-toggleable__label {background-color: #d4ebff;}#sk-container-id-3 input.sk-hidden--visually {border: 0;clip: rect(1px 1px 1px 1px);clip: rect(1px, 1px, 1px, 1px);height: 1px;margin: -1px;overflow: hidden;padding: 0;position: absolute;width: 1px;}#sk-container-id-3 div.sk-estimator {font-family: monospace;background-color: #f0f8ff;border: 1px dotted black;border-radius: 0.25em;box-sizing: border-box;margin-bottom: 0.5em;}#sk-container-id-3 div.sk-estimator:hover {background-color: #d4ebff;}#sk-container-id-3 div.sk-parallel-item::after {content: \"\";width: 100%;border-bottom: 1px solid gray;flex-grow: 1;}#sk-container-id-3 div.sk-label:hover label.sk-toggleable__label {background-color: #d4ebff;}#sk-container-id-3 div.sk-serial::before {content: \"\";position: absolute;border-left: 1px solid gray;box-sizing: border-box;top: 0;bottom: 0;left: 50%;z-index: 0;}#sk-container-id-3 div.sk-serial {display: flex;flex-direction: column;align-items: center;background-color: white;padding-right: 0.2em;padding-left: 0.2em;position: relative;}#sk-container-id-3 div.sk-item {position: relative;z-index: 1;}#sk-container-id-3 div.sk-parallel {display: flex;align-items: stretch;justify-content: center;background-color: white;position: relative;}#sk-container-id-3 div.sk-item::before, #sk-container-id-3 div.sk-parallel-item::before {content: \"\";position: absolute;border-left: 1px solid gray;box-sizing: border-box;top: 0;bottom: 0;left: 50%;z-index: -1;}#sk-container-id-3 div.sk-parallel-item {display: flex;flex-direction: column;z-index: 1;position: relative;background-color: white;}#sk-container-id-3 div.sk-parallel-item:first-child::after {align-self: flex-end;width: 50%;}#sk-container-id-3 div.sk-parallel-item:last-child::after {align-self: flex-start;width: 50%;}#sk-container-id-3 div.sk-parallel-item:only-child::after {width: 0;}#sk-container-id-3 div.sk-dashed-wrapped {border: 1px dashed gray;margin: 0 0.4em 0.5em 0.4em;box-sizing: border-box;padding-bottom: 0.4em;background-color: white;}#sk-container-id-3 div.sk-label label {font-family: monospace;font-weight: bold;display: inline-block;line-height: 1.2em;}#sk-container-id-3 div.sk-label-container {text-align: center;}#sk-container-id-3 div.sk-container {/* jupyter's `normalize.less` sets `[hidden] { display: none; }` but bootstrap.min.css set `[hidden] { display: none !important; }` so we also need the `!important` here to be able to override the default hidden behavior on the sphinx rendered scikit-learn.org. See: https://github.com/scikit-learn/scikit-learn/issues/21755 */display: inline-block !important;position: relative;}#sk-container-id-3 div.sk-text-repr-fallback {display: none;}</style><div id=\"sk-container-id-3\" class=\"sk-top-container\"><div class=\"sk-text-repr-fallback\"><pre>GaussianNB()</pre><b>In a Jupyter environment, please rerun this cell to show the HTML representation or trust the notebook. <br />On GitHub, the HTML representation is unable to render, please try loading this page with nbviewer.org.</b></div><div class=\"sk-container\" hidden><div class=\"sk-item\"><div class=\"sk-estimator sk-toggleable\"><input class=\"sk-toggleable__control sk-hidden--visually\" id=\"sk-estimator-id-3\" type=\"checkbox\" checked><label for=\"sk-estimator-id-3\" class=\"sk-toggleable__label sk-toggleable__label-arrow\">GaussianNB</label><div class=\"sk-toggleable__content\"><pre>GaussianNB()</pre></div></div></div></div></div>"
      ],
      "text/plain": [
       "GaussianNB()"
      ]
     },
     "execution_count": 27,
     "metadata": {},
     "output_type": "execute_result"
    }
   ],
   "source": [
    "nb_classifier = GaussianNB()\n",
    "nb_classifier.fit(X_train, y_train)"
   ]
  },
  {
   "cell_type": "code",
   "execution_count": 28,
   "id": "ed32e3cc-06de-46d4-ac84-7b6236f841a3",
   "metadata": {},
   "outputs": [
    {
     "name": "stdout",
     "output_type": "stream",
     "text": [
      "Accuracy of NB on test set : 0.786681157988341\n",
      "F1 Score of NB on test set : 0.7573884706146758\n"
     ]
    }
   ],
   "source": [
    "y_pred = nb_classifier.predict(X_test)\n",
    "print(f\"Accuracy of NB on test set : {accuracy_score(y_pred, y_test)}\")\n",
    "print(f\"F1 Score of NB on test set : {f1_score(y_pred, y_test)}\")"
   ]
  },
  {
   "cell_type": "code",
   "execution_count": 29,
   "id": "feb7772e-1796-4a0b-bb02-9d22b44aa9ff",
   "metadata": {},
   "outputs": [],
   "source": [
    "cm = confusion_matrix(y_test, y_pred)\n",
    "\n",
    "TP = cm[1, 1]\n",
    "TN = cm[0, 0]\n",
    "FP = cm[0, 1]\n",
    "FN = cm[1, 0]"
   ]
  },
  {
   "cell_type": "code",
   "execution_count": 30,
   "id": "72a7cc67-3138-44fa-82e7-71be8afea63c",
   "metadata": {},
   "outputs": [
    {
     "name": "stdout",
     "output_type": "stream",
     "text": [
      "Sensitivity: 0.6214272542872948\n",
      "Specificity: 0.9774372073222648\n",
      "Precision: 0.9695051783659379\n"
     ]
    }
   ],
   "source": [
    "sensitivity = TP / float(FN + TP)\n",
    "print(\"Sensitivity:\",sensitivity)\n",
    "specificity = TN / (TN + FP)\n",
    "print(\"Specificity:\",specificity)\n",
    "precision = TP / float(TP + FP)\n",
    "recall = TP / float(TP + FN)\n",
    "print (\"Precision:\",precision)"
   ]
  },
  {
   "cell_type": "code",
   "execution_count": 31,
   "id": "8fe5f846-8e07-4a8f-88f6-75eebf9ff55c",
   "metadata": {},
   "outputs": [
    {
     "data": {
      "text/plain": [
       "<sklearn.metrics._plot.confusion_matrix.ConfusionMatrixDisplay at 0x1b91e59ed90>"
      ]
     },
     "execution_count": 31,
     "metadata": {},
     "output_type": "execute_result"
    },
    {
     "data": {
      "image/png": "[encoded data removed]",
      "text/plain": [
       "<Figure size 640x480 with 2 Axes>"
      ]
     },
     "metadata": {},
     "output_type": "display_data"
    }
   ],
   "source": [
    "ConfusionMatrixDisplay(cm,display_labels=nb_classifier.classes_).plot()"
   ]
  },
  {
   "cell_type": "markdown",
   "id": "ded9199d-3443-4db3-b9ae-9a5f5eb16202",
   "metadata": {},
   "source": [
    "## Random Forest"
   ]
  },
  {
   "cell_type": "code",
   "execution_count": 32,
   "id": "ac5a3d53-d7cc-4810-a482-4f687e5db192",
   "metadata": {},
   "outputs": [
    {
     "data": {
      "text/html": [
       "<style>#sk-container-id-4 {color: black;}#sk-container-id-4 pre{padding: 0;}#sk-container-id-4 div.sk-toggleable {background-color: white;}#sk-container-id-4 label.sk-toggleable__label {cursor: pointer;display: block;width: 100%;margin-bottom: 0;padding: 0.3em;box-sizing: border-box;text-align: center;}#sk-container-id-4 label.sk-toggleable__label-arrow:before {content: \"▸\";float: left;margin-right: 0.25em;color: #696969;}#sk-container-id-4 label.sk-toggleable__label-arrow:hover:before {color: black;}#sk-container-id-4 div.sk-estimator:hover label.sk-toggleable__label-arrow:before {color: black;}#sk-container-id-4 div.sk-toggleable__content {max-height: 0;max-width: 0;overflow: hidden;text-align: left;background-color: #f0f8ff;}#sk-container-id-4 div.sk-toggleable__content pre {margin: 0.2em;color: black;border-radius: 0.25em;background-color: #f0f8ff;}#sk-container-id-4 input.sk-toggleable__control:checked~div.sk-toggleable__content {max-height: 200px;max-width: 100%;overflow: auto;}#sk-container-id-4 input.sk-toggleable__control:checked~label.sk-toggleable__label-arrow:before {content: \"▾\";}#sk-container-id-4 div.sk-estimator input.sk-toggleable__control:checked~label.sk-toggleable__label {background-color: #d4ebff;}#sk-container-id-4 div.sk-label input.sk-toggleable__control:checked~label.sk-toggleable__label {background-color: #d4ebff;}#sk-container-id-4 input.sk-hidden--visually {border: 0;clip: rect(1px 1px 1px 1px);clip: rect(1px, 1px, 1px, 1px);height: 1px;margin: -1px;overflow: hidden;padding: 0;position: absolute;width: 1px;}#sk-container-id-4 div.sk-estimator {font-family: monospace;background-color: #f0f8ff;border: 1px dotted black;border-radius: 0.25em;box-sizing: border-box;margin-bottom: 0.5em;}#sk-container-id-4 div.sk-estimator:hover {background-color: #d4ebff;}#sk-container-id-4 div.sk-parallel-item::after {content: \"\";width: 100%;border-bottom: 1px solid gray;flex-grow: 1;}#sk-container-id-4 div.sk-label:hover label.sk-toggleable__label {background-color: #d4ebff;}#sk-container-id-4 div.sk-serial::before {content: \"\";position: absolute;border-left: 1px solid gray;box-sizing: border-box;top: 0;bottom: 0;left: 50%;z-index: 0;}#sk-container-id-4 div.sk-serial {display: flex;flex-direction: column;align-items: center;background-color: white;padding-right: 0.2em;padding-left: 0.2em;position: relative;}#sk-container-id-4 div.sk-item {position: relative;z-index: 1;}#sk-container-id-4 div.sk-parallel {display: flex;align-items: stretch;justify-content: center;background-color: white;position: relative;}#sk-container-id-4 div.sk-item::before, #sk-container-id-4 div.sk-parallel-item::before {content: \"\";position: absolute;border-left: 1px solid gray;box-sizing: border-box;top: 0;bottom: 0;left: 50%;z-index: -1;}#sk-container-id-4 div.sk-parallel-item {display: flex;flex-direction: column;z-index: 1;position: relative;background-color: white;}#sk-container-id-4 div.sk-parallel-item:first-child::after {align-self: flex-end;width: 50%;}#sk-container-id-4 div.sk-parallel-item:last-child::after {align-self: flex-start;width: 50%;}#sk-container-id-4 div.sk-parallel-item:only-child::after {width: 0;}#sk-container-id-4 div.sk-dashed-wrapped {border: 1px dashed gray;margin: 0 0.4em 0.5em 0.4em;box-sizing: border-box;padding-bottom: 0.4em;background-color: white;}#sk-container-id-4 div.sk-label label {font-family: monospace;font-weight: bold;display: inline-block;line-height: 1.2em;}#sk-container-id-4 div.sk-label-container {text-align: center;}#sk-container-id-4 div.sk-container {/* jupyter's `normalize.less` sets `[hidden] { display: none; }` but bootstrap.min.css set `[hidden] { display: none !important; }` so we also need the `!important` here to be able to override the default hidden behavior on the sphinx rendered scikit-learn.org. See: https://github.com/scikit-learn/scikit-learn/issues/21755 */display: inline-block !important;position: relative;}#sk-container-id-4 div.sk-text-repr-fallback {display: none;}</style><div id=\"sk-container-id-4\" class=\"sk-top-container\"><div class=\"sk-text-repr-fallback\"><pre>RandomForestClassifier(max_depth=7, random_state=0)</pre><b>In a Jupyter environment, please rerun this cell to show the HTML representation or trust the notebook. <br />On GitHub, the HTML representation is unable to render, please try loading this page with nbviewer.org.</b></div><div class=\"sk-container\" hidden><div class=\"sk-item\"><div class=\"sk-estimator sk-toggleable\"><input class=\"sk-toggleable__control sk-hidden--visually\" id=\"sk-estimator-id-4\" type=\"checkbox\" checked><label for=\"sk-estimator-id-4\" class=\"sk-toggleable__label sk-toggleable__label-arrow\">RandomForestClassifier</label><div class=\"sk-toggleable__content\"><pre>RandomForestClassifier(max_depth=7, random_state=0)</pre></div></div></div></div></div>"
      ],
      "text/plain": [
       "RandomForestClassifier(max_depth=7, random_state=0)"
      ]
     },
     "execution_count": 32,
     "metadata": {},
     "output_type": "execute_result"
    }
   ],
   "source": [
    "rf_classifier =  RandomForestClassifier(n_estimators=100, max_depth=7, random_state=0)\n",
    "rf_classifier.fit(X_train, y_train)"
   ]
  },
  {
   "cell_type": "code",
   "execution_count": 33,
   "id": "86e38b13-dc60-4dcd-9d74-319c6155731b",
   "metadata": {},
   "outputs": [
    {
     "name": "stdout",
     "output_type": "stream",
     "text": [
      "Accuracy of RF on test set : 0.786681157988341\n",
      "F1 Score of RF on test set : 0.7573884706146758\n"
     ]
    }
   ],
   "source": [
    "y_pred = svc_classifier.predict(X_test)\n",
    "print(f\"Accuracy of RF on test set : {accuracy_score(y_pred, y_test)}\")\n",
    "print(f\"F1 Score of RF on test set : {f1_score(y_pred, y_test)}\")"
   ]
  },
  {
   "cell_type": "code",
   "execution_count": 34,
   "id": "28855d3c-813d-466f-91bd-ffa2d929578a",
   "metadata": {},
   "outputs": [],
   "source": [
    "cm = confusion_matrix(y_test, y_pred)\n",
    "\n",
    "TP = cm[1, 1]\n",
    "TN = cm[0, 0]\n",
    "FP = cm[0, 1]\n",
    "FN = cm[1, 0]"
   ]
  },
  {
   "cell_type": "code",
   "execution_count": 35,
   "id": "ee15f50a-ddaa-4079-8118-f5aa7ef07bfb",
   "metadata": {},
   "outputs": [
    {
     "name": "stdout",
     "output_type": "stream",
     "text": [
      "Sensitivity: 0.6214272542872948\n",
      "Specificity: 0.9774372073222648\n",
      "Precision: 0.9695051783659379\n"
     ]
    }
   ],
   "source": [
    "sensitivity = TP / float(FN + TP)\n",
    "print(\"Sensitivity:\",sensitivity)\n",
    "specificity = TN / (TN + FP)\n",
    "print(\"Specificity:\",specificity)\n",
    "precision = TP / float(TP + FP)\n",
    "recall = TP / float(TP + FN)\n",
    "print (\"Precision:\",precision)"
   ]
  },
  {
   "cell_type": "code",
   "execution_count": 36,
   "id": "83732a6e-7625-4724-8b12-773dc59f228b",
   "metadata": {},
   "outputs": [
    {
     "data": {
      "text/plain": [
       "<sklearn.metrics._plot.confusion_matrix.ConfusionMatrixDisplay at 0x1b91f6dcb90>"
      ]
     },
     "execution_count": 36,
     "metadata": {},
     "output_type": "execute_result"
    },
    {
     "data": {
      "image/png": "[encoded data removed]",
      "text/plain": [
       "<Figure size 640x480 with 2 Axes>"
      ]
     },
     "metadata": {},
     "output_type": "display_data"
    }
   ],
   "source": [
    "ConfusionMatrixDisplay(cm,display_labels=rf_classifier.classes_).plot()"
   ]
  },
  {
   "cell_type": "markdown",
   "id": "7fb580f4-dadc-42e1-9e7f-cc3270102efb",
   "metadata": {},
   "source": [
    "# Saving the best performing model"
   ]
  },
  {
   "cell_type": "code",
   "execution_count": 37,
   "id": "01fc2bd1-e034-450a-a534-0bb5a9b3a580",
   "metadata": {},
   "outputs": [],
   "source": [
    "# save the model to disk\n",
    "model_filename = 'sqli_model.h5'\n",
    "\n",
    "pickle.dump(gb_classifier, open(model_filename, 'wb'))"
   ]
  },
  {
   "cell_type": "markdown",
   "id": "49ab0f59-bc58-4f70-889e-ea4bdca40b2a",
   "metadata": {},
   "source": [
    "## Testing the chosen model"
   ]
  },
  {
   "cell_type": "code",
   "execution_count": 38,
   "id": "962bc044-d666-4bd7-95d3-94bc6acea755",
   "metadata": {},
   "outputs": [],
   "source": [
    "def process_input_for_classification(input):\n",
    "    cleared_input = re.sub(r'(/\\*[\\w\\d(\\`|\\~|\\!|\\@|\\#|\\$|\\%|\\^|\\&|\\*|\\(|\\)|\\-|\\_|\\=|\\+|\\[|\\{|\\]|\\}|\\\\|\\:|\\;|\\'|\\\"|\\<|\\>|\\,|\\.|\\?)\\s\\r\\n\\v\\f]*\\*/|\\*/|/\\*!\\d+)', ' ', input)\n",
    "\n",
    "    sql_tokens = Sql_tokenizer(cleared_input.strip())\n",
    "    token_seq = GetTokenSeq(sql_tokens, 3)\n",
    "    sqli_g_means = G_means(token_seq, 'sqli_GTest')\n",
    "    plain_g_means = G_means(token_seq, 'plain_GTest')\n",
    "    _X = [[len(sql_tokens), Entropy(input), sqli_g_means, plain_g_means]]\n",
    "    return _X\n",
    "\t"
   ]
  },
  {
   "cell_type": "code",
   "execution_count": 39,
   "id": "d0bd6bf1-fbe7-4e5b-8242-61ca1d554b34",
   "metadata": {},
   "outputs": [
    {
     "name": "stdout",
     "output_type": "stream",
     "text": [
      "Accuracy:  0.9519810295425353\n"
     ]
    }
   ],
   "source": [
    "# load the model from disk\n",
    "loaded_model = pickle.load(open(model_filename, 'rb'))\n",
    "result = loaded_model.score(X_test, y_test)\n",
    "print(\"Accuracy: \",result)"
   ]
  },
  {
   "cell_type": "code",
   "execution_count": 40,
   "id": "7028c151-41f0-4e6b-a7ca-35e1d41f6ba5",
   "metadata": {},
   "outputs": [
    {
     "name": "stdout",
     "output_type": "stream",
     "text": [
      "SQL INJECTION\n"
     ]
    },
    {
     "name": "stderr",
     "output_type": "stream",
     "text": [
      "C:\\Users\\MIPS\\Documents\\sql_injection_code\\venv\\Lib\\site-packages\\sklearn\\base.py:465: UserWarning: X does not have valid feature names, but GradientBoostingClassifier was fitted with feature names\n",
      "  warnings.warn(\n"
     ]
    }
   ],
   "source": [
    "user_input=\"1'  )   union all select null\"\n",
    "vectorized_input = process_input_for_classification(user_input)\n",
    "predictions=loaded_model.predict(vectorized_input)\n",
    "\n",
    "res = predictions[0]\n",
    "if res == 1:\n",
    "    print(\"SQL INJECTION\")\n",
    "else:\n",
    "    print(\"Normal string\")"
   ]
  },
  {
   "cell_type": "code",
   "execution_count": 41,
   "id": "5e203b1b-8d74-4b81-9ff4-8b2e3aadfd52",
   "metadata": {},
   "outputs": [
    {
     "name": "stdout",
     "output_type": "stream",
     "text": [
      "SQL INJECTION\n"
     ]
    },
    {
     "name": "stderr",
     "output_type": "stream",
     "text": [
      "C:\\Users\\MIPS\\Documents\\sql_injection_code\\venv\\Lib\\site-packages\\sklearn\\base.py:465: UserWarning: X does not have valid feature names, but GradientBoostingClassifier was fitted with feature names\n",
      "  warnings.warn(\n"
     ]
    }
   ],
   "source": [
    "user_input=\"3%29%20UNION%20ALL%20SELECT%20NULL%2CNULL%2CNULL--%20-&type=json\"\n",
    "vectorized_input = process_input_for_classification(user_input)\n",
    "predictions=loaded_model.predict(vectorized_input)\n",
    "\n",
    "res = predictions[0]\n",
    "if res == 1:\n",
    "    print(\"SQL INJECTION\")\n",
    "else:\n",
    "    print(\"Normal string\")"
   ]
  },
  {
   "cell_type": "code",
   "execution_count": 42,
   "id": "3152503b-f75c-4858-86b4-f6c6de96bc7a",
   "metadata": {},
   "outputs": [
    {
     "name": "stdout",
     "output_type": "stream",
     "text": [
      "Normal string\n"
     ]
    },
    {
     "name": "stderr",
     "output_type": "stream",
     "text": [
      "C:\\Users\\MIPS\\Documents\\sql_injection_code\\venv\\Lib\\site-packages\\sklearn\\base.py:465: UserWarning: X does not have valid feature names, but GradientBoostingClassifier was fitted with feature names\n",
      "  warnings.warn(\n"
     ]
    }
   ],
   "source": [
    "user_input=\"/\"\n",
    "vectorized_input = process_input_for_classification(user_input)\n",
    "predictions=loaded_model.predict(vectorized_input)\n",
    "\n",
    "res = predictions[0]\n",
    "if res == 1:\n",
    "    print(\"SQL INJECTION\")\n",
    "else:\n",
    "    print(\"Normal string\")"
   ]
  },
  {
   "cell_type": "code",
   "execution_count": 43,
   "id": "921de052-de6f-4083-b75d-c79c55b15ab2",
   "metadata": {},
   "outputs": [
    {
     "name": "stdout",
     "output_type": "stream",
     "text": [
      "Normal string\n"
     ]
    },
    {
     "name": "stderr",
     "output_type": "stream",
     "text": [
      "C:\\Users\\MIPS\\Documents\\sql_injection_code\\venv\\Lib\\site-packages\\sklearn\\base.py:465: UserWarning: X does not have valid feature names, but GradientBoostingClassifier was fitted with feature names\n",
      "  warnings.warn(\n"
     ]
    }
   ],
   "source": [
    "user_input=\"posts/pseudopost-8/images/metro.jpeg\"\n",
    "vectorized_input = process_input_for_classification(user_input)\n",
    "predictions=loaded_model.predict(vectorized_input)\n",
    "\n",
    "res = predictions[0]\n",
    "if res == 1:\n",
    "    print(\"SQL INJECTION\")\n",
    "else:\n",
    "    print(\"Normal string\")"
   ]
  },
  {
   "cell_type": "code",
   "execution_count": 44,
   "id": "a2c3e4b0-4fdf-4168-a691-a94966fe8d30",
   "metadata": {},
   "outputs": [
    {
     "name": "stdout",
     "output_type": "stream",
     "text": [
      "Normal string\n"
     ]
    },
    {
     "name": "stderr",
     "output_type": "stream",
     "text": [
      "C:\\Users\\MIPS\\Documents\\sql_injection_code\\venv\\Lib\\site-packages\\sklearn\\base.py:465: UserWarning: X does not have valid feature names, but GradientBoostingClassifier was fitted with feature names\n",
      "  warnings.warn(\n"
     ]
    }
   ],
   "source": [
    "user_input=\"I would like to select the option.. the union is against overspending, or lack of transparency and other stuff like that\"\n",
    "vectorized_input = process_input_for_classification(user_input)\n",
    "predictions=loaded_model.predict(vectorized_input)\n",
    "\n",
    "res = predictions[0]\n",
    "if res == 1:\n",
    "    print(\"SQL INJECTION\")\n",
    "else:\n",
    "    print(\"Normal string\")"
   ]
  },
  {
   "cell_type": "code",
   "execution_count": null,
   "id": "c1a9ae75-3dbf-4e2c-b545-411e6afccba8",
   "metadata": {},
   "outputs": [],
   "source": []
  }
 ],
 "metadata": {
  "kernelspec": {
   "display_name": "Python 3 (ipykernel)",
   "language": "python",
   "name": "python3"
  },
  "language_info": {
   "codemirror_mode": {
    "name": "ipython",
    "version": 3
   },
   "file_extension": ".py",
   "mimetype": "text/x-python",
   "name": "python",
   "nbconvert_exporter": "python",
   "pygments_lexer": "ipython3",
   "version": "3.11.5"
  }
 },
 "nbformat": 4,
 "nbformat_minor": 5
}
